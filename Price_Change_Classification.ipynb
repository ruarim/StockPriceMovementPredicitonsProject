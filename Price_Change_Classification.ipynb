{
 "cells": [
  {
   "cell_type": "code",
   "execution_count": 1,
   "metadata": {},
   "outputs": [],
   "source": [
    "import csv\n",
    "import numpy as np\n",
    "import pandas as pd\n",
    "import sklearn"
   ]
  },
  {
   "cell_type": "code",
   "execution_count": 2,
   "metadata": {},
   "outputs": [],
   "source": [
    "from sklearn.metrics import accuracy_score\n",
    "from sklearn.metrics import roc_auc_score\n",
    "from sklearn.metrics import precision_score\n",
    "from sklearn import metrics\n",
    "\n",
    "def analysis(y_pred, y):\n",
    "    #create decision rule that if probabilty > 0.5 = price increase\n",
    "    preds = [1 if val > 0.5 else 0 for val in y_pred]\n",
    "    y_analysis = y.ravel()\n",
    "    print(\"AUC score:\")\n",
    "    print(roc_auc_score(y_analysis, y_pred))\n",
    "    print('\\n')\n",
    "    # Let's binarize and look at the confusion matrix\n",
    "    print('Confusion Matrix:')\n",
    "    print(metrics.confusion_matrix(y_analysis, preds))\n",
    "    print('\\n')\n",
    "    # Lets look at the precision score\n",
    "    print('Precision Score:')\n",
    "    print(precision_score(y_analysis, preds))\n",
    "    print('\\n')"
   ]
  },
  {
   "cell_type": "markdown",
   "metadata": {},
   "source": [
    "# Classification"
   ]
  },
  {
   "cell_type": "markdown",
   "metadata": {},
   "source": [
    "load data"
   ]
  },
  {
   "cell_type": "code",
   "execution_count": 3,
   "metadata": {},
   "outputs": [
    {
     "data": {
      "text/html": [
       "<div>\n",
       "<style scoped>\n",
       "    .dataframe tbody tr th:only-of-type {\n",
       "        vertical-align: middle;\n",
       "    }\n",
       "\n",
       "    .dataframe tbody tr th {\n",
       "        vertical-align: top;\n",
       "    }\n",
       "\n",
       "    .dataframe thead th {\n",
       "        text-align: right;\n",
       "    }\n",
       "</style>\n",
       "<table border=\"1\" class=\"dataframe\">\n",
       "  <thead>\n",
       "    <tr style=\"text-align: right;\">\n",
       "      <th></th>\n",
       "      <th>volume</th>\n",
       "      <th>timestamp</th>\n",
       "      <th>high</th>\n",
       "      <th>low</th>\n",
       "      <th>close</th>\n",
       "      <th>open</th>\n",
       "      <th>log_change</th>\n",
       "      <th>pos_target</th>\n",
       "      <th>WALL_STREE.text_COUNT_last1days:google</th>\n",
       "      <th>sentiment</th>\n",
       "    </tr>\n",
       "  </thead>\n",
       "  <tbody>\n",
       "    <tr>\n",
       "      <th>0</th>\n",
       "      <td>4018300</td>\n",
       "      <td>1.396544e+09</td>\n",
       "      <td>588.300</td>\n",
       "      <td>566.01</td>\n",
       "      <td>571.50</td>\n",
       "      <td>573.39</td>\n",
       "      <td>0.166128</td>\n",
       "      <td>0.0</td>\n",
       "      <td>2</td>\n",
       "      <td>0.047923</td>\n",
       "    </tr>\n",
       "    <tr>\n",
       "      <th>1</th>\n",
       "      <td>3961600</td>\n",
       "      <td>1.396890e+09</td>\n",
       "      <td>549.850</td>\n",
       "      <td>530.53</td>\n",
       "      <td>540.63</td>\n",
       "      <td>544.79</td>\n",
       "      <td>0.071418</td>\n",
       "      <td>1.0</td>\n",
       "      <td>1</td>\n",
       "      <td>0.415801</td>\n",
       "    </tr>\n",
       "    <tr>\n",
       "      <th>2</th>\n",
       "      <td>3031600</td>\n",
       "      <td>1.397063e+09</td>\n",
       "      <td>567.800</td>\n",
       "      <td>555.38</td>\n",
       "      <td>567.04</td>\n",
       "      <td>565.84</td>\n",
       "      <td>0.283769</td>\n",
       "      <td>0.0</td>\n",
       "      <td>1</td>\n",
       "      <td>0.479525</td>\n",
       "    </tr>\n",
       "    <tr>\n",
       "      <th>3</th>\n",
       "      <td>5614700</td>\n",
       "      <td>1.397754e+09</td>\n",
       "      <td>557.000</td>\n",
       "      <td>539.40</td>\n",
       "      <td>543.34</td>\n",
       "      <td>556.32</td>\n",
       "      <td>-0.274617</td>\n",
       "      <td>1.0</td>\n",
       "      <td>6</td>\n",
       "      <td>0.602720</td>\n",
       "    </tr>\n",
       "    <tr>\n",
       "      <th>4</th>\n",
       "      <td>2331100</td>\n",
       "      <td>1.398186e+09</td>\n",
       "      <td>547.995</td>\n",
       "      <td>536.00</td>\n",
       "      <td>545.50</td>\n",
       "      <td>536.00</td>\n",
       "      <td>0.619104</td>\n",
       "      <td>0.0</td>\n",
       "      <td>2</td>\n",
       "      <td>-0.425460</td>\n",
       "    </tr>\n",
       "  </tbody>\n",
       "</table>\n",
       "</div>"
      ],
      "text/plain": [
       "    volume     timestamp     high     low   close    open  log_change  \\\n",
       "0  4018300  1.396544e+09  588.300  566.01  571.50  573.39    0.166128   \n",
       "1  3961600  1.396890e+09  549.850  530.53  540.63  544.79    0.071418   \n",
       "2  3031600  1.397063e+09  567.800  555.38  567.04  565.84    0.283769   \n",
       "3  5614700  1.397754e+09  557.000  539.40  543.34  556.32   -0.274617   \n",
       "4  2331100  1.398186e+09  547.995  536.00  545.50  536.00    0.619104   \n",
       "\n",
       "   pos_target  WALL_STREE.text_COUNT_last1days:google  sentiment  \n",
       "0         0.0                                       2   0.047923  \n",
       "1         1.0                                       1   0.415801  \n",
       "2         0.0                                       1   0.479525  \n",
       "3         1.0                                       6   0.602720  \n",
       "4         0.0                                       2  -0.425460  "
      ]
     },
     "execution_count": 3,
     "metadata": {},
     "output_type": "execute_result"
    }
   ],
   "source": [
    "target = 'pos_target'\n",
    "#data = pd.read_csv('GOOG_PRICE_FLAIR_SEMANTIC_ENRICHED.csv')\n",
    "data = pd.read_csv('GOOG_PRICE_MYMODEL_SEMANTIC_ENRICHED.csv')\n",
    "input_data = data\n",
    "#remove negative target  \n",
    "input_data = input_data.drop('neg_target', axis = 1)\n",
    "\n",
    "#shift price change target so todays sentiment lines up with tomorrows price\n",
    "input_data[target] = input_data[target].shift(-1)\n",
    "input_data = input_data[:-1].reset_index(drop=True)\n",
    "\n",
    "input_data = input_data.dropna(axis=1).select_dtypes(['number']) \n",
    "input_data.head()"
   ]
  },
  {
   "cell_type": "code",
   "execution_count": 4,
   "metadata": {},
   "outputs": [],
   "source": [
    "input_data=input_data[['sentiment','log_change','pos_target']]"
   ]
  },
  {
   "cell_type": "code",
   "execution_count": 5,
   "metadata": {},
   "outputs": [
    {
     "data": {
      "text/html": [
       "<div>\n",
       "<style scoped>\n",
       "    .dataframe tbody tr th:only-of-type {\n",
       "        vertical-align: middle;\n",
       "    }\n",
       "\n",
       "    .dataframe tbody tr th {\n",
       "        vertical-align: top;\n",
       "    }\n",
       "\n",
       "    .dataframe thead th {\n",
       "        text-align: right;\n",
       "    }\n",
       "</style>\n",
       "<table border=\"1\" class=\"dataframe\">\n",
       "  <thead>\n",
       "    <tr style=\"text-align: right;\">\n",
       "      <th></th>\n",
       "      <th>sentiment</th>\n",
       "      <th>log_change</th>\n",
       "      <th>pos_target</th>\n",
       "    </tr>\n",
       "  </thead>\n",
       "  <tbody>\n",
       "    <tr>\n",
       "      <th>0</th>\n",
       "      <td>0.047923</td>\n",
       "      <td>0.166128</td>\n",
       "      <td>0.0</td>\n",
       "    </tr>\n",
       "    <tr>\n",
       "      <th>1</th>\n",
       "      <td>0.415801</td>\n",
       "      <td>0.071418</td>\n",
       "      <td>1.0</td>\n",
       "    </tr>\n",
       "    <tr>\n",
       "      <th>2</th>\n",
       "      <td>0.479525</td>\n",
       "      <td>0.283769</td>\n",
       "      <td>0.0</td>\n",
       "    </tr>\n",
       "    <tr>\n",
       "      <th>3</th>\n",
       "      <td>0.602720</td>\n",
       "      <td>-0.274617</td>\n",
       "      <td>1.0</td>\n",
       "    </tr>\n",
       "    <tr>\n",
       "      <th>4</th>\n",
       "      <td>-0.425460</td>\n",
       "      <td>0.619104</td>\n",
       "      <td>0.0</td>\n",
       "    </tr>\n",
       "    <tr>\n",
       "      <th>...</th>\n",
       "      <td>...</td>\n",
       "      <td>...</td>\n",
       "      <td>...</td>\n",
       "    </tr>\n",
       "    <tr>\n",
       "      <th>472</th>\n",
       "      <td>0.371693</td>\n",
       "      <td>0.271485</td>\n",
       "      <td>1.0</td>\n",
       "    </tr>\n",
       "    <tr>\n",
       "      <th>473</th>\n",
       "      <td>0.371693</td>\n",
       "      <td>0.271485</td>\n",
       "      <td>1.0</td>\n",
       "    </tr>\n",
       "    <tr>\n",
       "      <th>474</th>\n",
       "      <td>0.873099</td>\n",
       "      <td>0.299884</td>\n",
       "      <td>0.0</td>\n",
       "    </tr>\n",
       "    <tr>\n",
       "      <th>475</th>\n",
       "      <td>-0.092425</td>\n",
       "      <td>0.252829</td>\n",
       "      <td>0.0</td>\n",
       "    </tr>\n",
       "    <tr>\n",
       "      <th>476</th>\n",
       "      <td>0.621750</td>\n",
       "      <td>-0.052315</td>\n",
       "      <td>0.0</td>\n",
       "    </tr>\n",
       "  </tbody>\n",
       "</table>\n",
       "<p>477 rows × 3 columns</p>\n",
       "</div>"
      ],
      "text/plain": [
       "     sentiment  log_change  pos_target\n",
       "0     0.047923    0.166128         0.0\n",
       "1     0.415801    0.071418         1.0\n",
       "2     0.479525    0.283769         0.0\n",
       "3     0.602720   -0.274617         1.0\n",
       "4    -0.425460    0.619104         0.0\n",
       "..         ...         ...         ...\n",
       "472   0.371693    0.271485         1.0\n",
       "473   0.371693    0.271485         1.0\n",
       "474   0.873099    0.299884         0.0\n",
       "475  -0.092425    0.252829         0.0\n",
       "476   0.621750   -0.052315         0.0\n",
       "\n",
       "[477 rows x 3 columns]"
      ]
     },
     "execution_count": 5,
     "metadata": {},
     "output_type": "execute_result"
    }
   ],
   "source": [
    "input_data"
   ]
  },
  {
   "cell_type": "markdown",
   "metadata": {},
   "source": [
    "# Train Tess Split"
   ]
  },
  {
   "cell_type": "code",
   "execution_count": 6,
   "metadata": {},
   "outputs": [],
   "source": [
    "from sklearn.model_selection import train_test_split\n",
    "X = input_data.loc[:, input_data.columns != target].values\n",
    "y = input_data.loc[:,[target]].values\n",
    "X_train, X_test, y_train, y_test = train_test_split(X,y, test_size = 0.2, random_state = 42)"
   ]
  },
  {
   "cell_type": "markdown",
   "metadata": {},
   "source": [
    "# Data learning "
   ]
  },
  {
   "cell_type": "code",
   "execution_count": 7,
   "metadata": {},
   "outputs": [],
   "source": [
    "from sklearn.neighbors import KNeighborsClassifier"
   ]
  },
  {
   "cell_type": "code",
   "execution_count": 8,
   "metadata": {},
   "outputs": [
    {
     "data": {
      "text/plain": [
       "KNeighborsClassifier()"
      ]
     },
     "execution_count": 8,
     "metadata": {},
     "output_type": "execute_result"
    }
   ],
   "source": [
    "knn_classifier = KNeighborsClassifier()\n",
    "knn_classifier.fit(X_train, y_train.ravel())"
   ]
  },
  {
   "cell_type": "code",
   "execution_count": 9,
   "metadata": {},
   "outputs": [
    {
     "data": {
      "text/plain": [
       "0.6824146981627297"
      ]
     },
     "execution_count": 9,
     "metadata": {},
     "output_type": "execute_result"
    }
   ],
   "source": [
    "knn_classifier.score(X_train, y_train)"
   ]
  },
  {
   "cell_type": "code",
   "execution_count": 10,
   "metadata": {},
   "outputs": [
    {
     "data": {
      "text/plain": [
       "0.5833333333333334"
      ]
     },
     "execution_count": 10,
     "metadata": {},
     "output_type": "execute_result"
    }
   ],
   "source": [
    "knn_classifier.score(X_test, y_test)"
   ]
  },
  {
   "cell_type": "code",
   "execution_count": 11,
   "metadata": {},
   "outputs": [],
   "source": [
    "y_pred_knn = knn_classifier.predict(X_test)"
   ]
  },
  {
   "cell_type": "code",
   "execution_count": 12,
   "metadata": {
    "scrolled": true
   },
   "outputs": [
    {
     "name": "stdout",
     "output_type": "stream",
     "text": [
      "AUC score:\n",
      "0.5618625277161863\n",
      "\n",
      "\n",
      "Confusion Matrix:\n",
      "[[39 16]\n",
      " [24 17]]\n",
      "\n",
      "\n",
      "Precision Score:\n",
      "0.5151515151515151\n",
      "\n",
      "\n"
     ]
    }
   ],
   "source": [
    "analysis(y_pred_knn, y_test)"
   ]
  },
  {
   "cell_type": "code",
   "execution_count": 13,
   "metadata": {},
   "outputs": [],
   "source": [
    "from sklearn.svm import SVC"
   ]
  },
  {
   "cell_type": "code",
   "execution_count": 14,
   "metadata": {},
   "outputs": [
    {
     "data": {
      "text/plain": [
       "SVC()"
      ]
     },
     "execution_count": 14,
     "metadata": {},
     "output_type": "execute_result"
    }
   ],
   "source": [
    "svm_classifier = SVC()\n",
    "svm_classifier.fit(X_train, y_train.ravel())"
   ]
  },
  {
   "cell_type": "code",
   "execution_count": 15,
   "metadata": {},
   "outputs": [
    {
     "data": {
      "text/plain": [
       "0.6010498687664042"
      ]
     },
     "execution_count": 15,
     "metadata": {},
     "output_type": "execute_result"
    }
   ],
   "source": [
    "svm_classifier.score(X_train, y_train)"
   ]
  },
  {
   "cell_type": "code",
   "execution_count": 16,
   "metadata": {},
   "outputs": [
    {
     "data": {
      "text/plain": [
       "0.6041666666666666"
      ]
     },
     "execution_count": 16,
     "metadata": {},
     "output_type": "execute_result"
    }
   ],
   "source": [
    "svm_classifier.score(X_test, y_test)"
   ]
  },
  {
   "cell_type": "code",
   "execution_count": 17,
   "metadata": {},
   "outputs": [],
   "source": [
    "y_pred_svm = svm_classifier.predict(X_test)"
   ]
  },
  {
   "cell_type": "code",
   "execution_count": 18,
   "metadata": {
    "scrolled": true
   },
   "outputs": [
    {
     "name": "stdout",
     "output_type": "stream",
     "text": [
      "AUC score:\n",
      "0.5458980044345898\n",
      "\n",
      "\n",
      "Confusion Matrix:\n",
      "[[52  3]\n",
      " [35  6]]\n",
      "\n",
      "\n",
      "Precision Score:\n",
      "0.6666666666666666\n",
      "\n",
      "\n"
     ]
    }
   ],
   "source": [
    "analysis(y_pred_svm, y_test)"
   ]
  },
  {
   "cell_type": "code",
   "execution_count": 19,
   "metadata": {},
   "outputs": [],
   "source": [
    "div = int(round(input_data.shape[0] * 0.80))\n",
    "train = input_data[:div]\n",
    "test = input_data[div:]\n",
    "          \n",
    "X_train = train.loc[:, train.columns != target].values\n",
    "y_train = train.loc[:,[target]].values\n",
    "\n",
    "X_test = test.loc[:, test.columns != target].values\n",
    "y_test = test.loc[:,[target]].values"
   ]
  },
  {
   "cell_type": "code",
   "execution_count": 20,
   "metadata": {},
   "outputs": [
    {
     "data": {
      "text/plain": [
       "RandomForestRegressor(n_estimators=3000)"
      ]
     },
     "execution_count": 20,
     "metadata": {},
     "output_type": "execute_result"
    }
   ],
   "source": [
    "from sklearn.ensemble import RandomForestRegressor\n",
    "randomRegressor_classifier = RandomForestRegressor(n_estimators = 3000, criterion='mse')\n",
    "randomRegressor_classifier.fit(X_train, y_train.ravel()) #convert y-train to linear sequence"
   ]
  },
  {
   "cell_type": "code",
   "execution_count": 21,
   "metadata": {},
   "outputs": [],
   "source": [
    "y_pred_test = randomRegressor_classifier.predict(X_test)\n",
    "y_pred_train = randomRegressor_classifier.predict(X_train)"
   ]
  },
  {
   "cell_type": "code",
   "execution_count": 22,
   "metadata": {},
   "outputs": [
    {
     "name": "stdout",
     "output_type": "stream",
     "text": [
      "AUC score:\n",
      "0.6145276292335116\n",
      "\n",
      "\n",
      "Confusion Matrix:\n",
      "[[33 11]\n",
      " [30 21]]\n",
      "\n",
      "\n",
      "Precision Score:\n",
      "0.65625\n",
      "\n",
      "\n"
     ]
    }
   ],
   "source": [
    "analysis(y_pred_test, y_test)"
   ]
  },
  {
   "cell_type": "code",
   "execution_count": 24,
   "metadata": {},
   "outputs": [],
   "source": [
    "from yellowbrick.contrib.classifier import DecisionViz\n",
    "def draw_decision_boundary(classifier):\n",
    "    feature_pair = ['sentiment', 'price change']\n",
    "    idx1 = input_data.columns.get_loc('sentiment')\n",
    "    idx2 = input_data.columns.get_loc('log_change')\n",
    "\n",
    "    vis = DecisionViz(classifier, features = feature_pair, classes=['negative', 'positive'], is_fitted=True)\n",
    "    vis.fit(X_train[:,(idx1,idx2)],y_train.ravel())\n",
    "    vis.draw(X_test[:,(idx1,idx2)],y_test.ravel())\n",
    "    vis.show()"
   ]
  },
  {
   "cell_type": "code",
   "execution_count": 25,
   "metadata": {},
   "outputs": [
    {
     "name": "stderr",
     "output_type": "stream",
     "text": [
      "C:\\Users\\Ruari\\anaconda3\\lib\\site-packages\\yellowbrick\\contrib\\classifier\\boundaries.py:435: MatplotlibDeprecationWarning: shading='flat' when X and Y have the same dimensions as C is deprecated since 3.3.  Either specify the corners of the quadrilaterals with X and Y, or pass shading='auto', 'nearest' or 'gouraud', or set rcParams['pcolor.shading'].  This will become an error two minor releases later.\n",
      "  self.ax.pcolormesh(\n"
     ]
    },
    {
     "data": {
      "image/png": "[encoded data removed]",
      "text/plain": [
       "<Figure size 576x396 with 1 Axes>"
      ]
     },
     "metadata": {},
     "output_type": "display_data"
    }
   ],
   "source": [
    "draw_decision_boundary(svm_classifier)"
   ]
  },
  {
   "cell_type": "code",
   "execution_count": 26,
   "metadata": {},
   "outputs": [
    {
     "name": "stderr",
     "output_type": "stream",
     "text": [
      "C:\\Users\\Ruari\\anaconda3\\lib\\site-packages\\yellowbrick\\contrib\\classifier\\boundaries.py:435: MatplotlibDeprecationWarning: shading='flat' when X and Y have the same dimensions as C is deprecated since 3.3.  Either specify the corners of the quadrilaterals with X and Y, or pass shading='auto', 'nearest' or 'gouraud', or set rcParams['pcolor.shading'].  This will become an error two minor releases later.\n",
      "  self.ax.pcolormesh(\n"
     ]
    },
    {
     "data": {
      "image/png": "[encoded data removed]",
      "text/plain": [
       "<Figure size 576x396 with 1 Axes>"
      ]
     },
     "metadata": {},
     "output_type": "display_data"
    }
   ],
   "source": [
    "draw_decision_boundary(knn_classifier)"
   ]
  },
  {
   "cell_type": "code",
   "execution_count": null,
   "metadata": {},
   "outputs": [],
   "source": []
  },
  {
   "cell_type": "code",
   "execution_count": null,
   "metadata": {},
   "outputs": [],
   "source": []
  }
 ],
 "metadata": {
  "kernelspec": {
   "display_name": "Python 3",
   "language": "python",
   "name": "python3"
  },
  "language_info": {
   "codemirror_mode": {
    "name": "ipython",
    "version": 3
   },
   "file_extension": ".py",
   "mimetype": "text/x-python",
   "name": "python",
   "nbconvert_exporter": "python",
   "pygments_lexer": "ipython3",
   "version": "3.8.5"
  }
 },
 "nbformat": 4,
 "nbformat_minor": 4
}
